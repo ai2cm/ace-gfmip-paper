{
 "cells": [
  {
   "cell_type": "code",
   "execution_count": null,
   "metadata": {},
   "outputs": [],
   "source": [
    "import xarray as xr\n",
    "import numpy as np\n",
    "import matplotlib.pyplot as plt\n",
    "import cartopy.crs as ccrs\n",
    "import yaml\n",
    "scratch = \"/pscratch/sd/e/elynnwu\"\n",
    "precomputed_dir = f\"{scratch}/explore2/elynn\"\n",
    "forcing_dir = f\"{scratch}/e3smv3-fme-data/gfmip-annual-repeating-sst-sic\""
   ]
  },
  {
   "cell_type": "code",
   "execution_count": null,
   "metadata": {},
   "outputs": [],
   "source": [
    "forcing = xr.open_dataset(f\"{forcing_dir}/1971.nc\")\n",
    "forcing = forcing.sel(time=slice(\"1971-01-01\", \"1981-01-01\"))\n",
    "ocn_fraction = forcing.OCNFRAC.max(dim=\"time\")\n",
    "ice_fraction = forcing.ICEFRAC.max(dim=\"time\")\n",
    "ice_threshold = 0.001\n",
    "ice_free_mask = xr.where(ice_fraction<=ice_threshold , True, False).values\n",
    "ocean_mask = xr.where(ocn_fraction>=0.5 , True, False).values\n",
    "ocean_and_ice_free = ocean_mask * ice_free_mask\n",
    "\n",
    "one_deg_grid = xr.open_dataset(f\"{scratch}/ace-run-inference/greens-function-test/ncremap_gaussian_grid_180_by_360.nc\")\n",
    "area = one_deg_grid[\"grid_area\"].values.reshape((180, 360))"
   ]
  },
  {
   "cell_type": "code",
   "execution_count": null,
   "metadata": {},
   "outputs": [],
   "source": [
    "ice_threshold = 0.001\n",
    "dR_dSST_40yr = xr.open_dataset(f\"{precomputed_dir}/ACE_sensitivity_map_valid_patch_ice_threshold_{ice_threshold}_40yr_beaker-RS2.nc\")[\"both\"].values\n",
    "dR_dSST_warming_40yr = xr.open_dataset(f\"{precomputed_dir}/ACE_sensitivity_map_valid_patch_ice_threshold_{ice_threshold}_40yr_beaker-RS2.nc\")[\"warming\"].values\n",
    "dR_dSST_cooling_40yr = xr.open_dataset(f\"{precomputed_dir}/ACE_sensitivity_map_valid_patch_ice_threshold_{ice_threshold}_40yr_beaker-RS2.nc\")[\"cooling\"].values"
   ]
  },
  {
   "cell_type": "code",
   "execution_count": null,
   "metadata": {},
   "outputs": [],
   "source": [
    "ice_threshold = 0.001\n",
    "dR_dSST_10yr = xr.open_dataset(f\"{precomputed_dir}/ACE_sensitivity_map_valid_patch_ice_threshold_{ice_threshold}_0_120_patch_20yr_control_beaker-RS2.nc\")[\"both\"].values\n",
    "dR_dSST_warming_10yr = xr.open_dataset(f\"{precomputed_dir}/ACE_sensitivity_map_valid_patch_ice_threshold_{ice_threshold}_0_120_patch_20yr_control_beaker-RS2.nc\")[\"warming\"].values\n",
    "dR_dSST_cooling_10yr = xr.open_dataset(f\"{precomputed_dir}/ACE_sensitivity_map_valid_patch_ice_threshold_{ice_threshold}_0_120_patch_20yr_control_beaker-RS2.nc\")[\"cooling\"].values"
   ]
  },
  {
   "cell_type": "code",
   "execution_count": null,
   "metadata": {},
   "outputs": [],
   "source": [
    "e3sm_sensitivity_warming = xr.open_dataset(f\"{precomputed_dir}/E3SM_sensitivity_map_valid_patch_ice_threshold_0.001.nc\")[\"warming\"]\n",
    "e3sm_sensitivity_cooling = xr.open_dataset(f\"{precomputed_dir}/E3SM_sensitivity_map_valid_patch_ice_threshold_0.001.nc\")[\"cooling\"]\n",
    "e3sm_sensitivity = xr.open_dataset(f\"{precomputed_dir}/E3SM_sensitivity_map_valid_patch_ice_threshold_0.001.nc\")[\"both\"]"
   ]
  },
  {
   "cell_type": "code",
   "execution_count": null,
   "metadata": {},
   "outputs": [],
   "source": [
    "lat = e3sm_sensitivity.lat.values\n",
    "lon = e3sm_sensitivity.lon.values\n",
    "lons, lats = np.meshgrid(lon, lat)"
   ]
  },
  {
   "cell_type": "markdown",
   "metadata": {},
   "source": [
    "### See manuscript for how noise $\\sigma$ is calculated"
   ]
  },
  {
   "cell_type": "code",
   "execution_count": null,
   "metadata": {},
   "outputs": [],
   "source": [
    "sigma_p_one_sided = 5.0\n",
    "sigma_p_avg = 3.0\n",
    "sigma_p_diff = 4.0"
   ]
  },
  {
   "cell_type": "code",
   "execution_count": null,
   "metadata": {},
   "outputs": [],
   "source": [
    "plt.rcParams['font.size'] = 14\n",
    "fig, axes = plt.subplots(2, 3, figsize=(20, 9), subplot_kw={'projection': ccrs.PlateCarree(central_longitude=180)})\n",
    "axes = axes.flatten()\n",
    "ACE_results = [dR_dSST_warming_10yr, dR_dSST_cooling_10yr, dR_dSST_10yr]\n",
    "labels = [\"a) ACE Warming\", \"b) ACE Cooling\", \"c) ACE Average\"]\n",
    "for i in range(3):\n",
    "    cf = axes[i].pcolormesh(lons, lats, ACE_results[i], vmin=-30, vmax=30, transform=ccrs.PlateCarree(), cmap=\"RdBu_r\")\n",
    "    current_sigma = sigma_p_one_sided if i < 2 else sigma_p_avg\n",
    "    zscore = ACE_results[i] / current_sigma\n",
    "    mask = np.where(np.abs(zscore) > 2.0, 1, 0)\n",
    "    axes[i].contourf(lons, lats, mask, 1, hatches=[None, \"//\"], colors=\"none\", transform=ccrs.PlateCarree())\n",
    "    axes[i].coastlines()\n",
    "    axes[i].set_global()\n",
    "    axes[i].set_title(labels[i])\n",
    "    gl = axes[i].gridlines(crs=ccrs.PlateCarree(), draw_labels=True,\n",
    "                    linewidth=0.5, color='gray', alpha=0.5, linestyle='--')\n",
    "    gl.top_labels = False\n",
    "\n",
    "e3sm_results = [e3sm_sensitivity_warming, e3sm_sensitivity_cooling, e3sm_sensitivity]\n",
    "labels = [\"d) EAMv3 Warming\", \"e) EAMv3 Cooling\", \"f) EAMv3 Average\"]\n",
    "for i in range(3, 6):\n",
    "    cf = axes[i].pcolormesh(lons, lats, e3sm_results[i-3], vmin=-30, vmax=30, transform=ccrs.PlateCarree(), cmap=\"RdBu_r\")\n",
    "    current_sigma = sigma_p_one_sided if i < 5 else sigma_p_avg\n",
    "    zscore = e3sm_results[i-3] / current_sigma\n",
    "    mask = np.where(np.abs(zscore) > 2.0, 1, 0)\n",
    "    axes[i].contourf(lons, lats, mask, 1, hatches=[None, \"//\"], colors=\"none\", transform=ccrs.PlateCarree())\n",
    "\n",
    "    axes[i].coastlines()\n",
    "    axes[i].set_global()\n",
    "    axes[i].set_title(labels[i-3])\n",
    "    gl = axes[i].gridlines(crs=ccrs.PlateCarree(), draw_labels=True,\n",
    "                    linewidth=0.5, color='gray', alpha=0.5, linestyle='--')\n",
    "    gl.top_labels = False    \n",
    "\n",
    "cbar = fig.colorbar(cf, ax=axes[:], orientation=\"horizontal\", pad=0.05, fraction=0.06)\n",
    "cbar.set_label(r\"$(d\\overline{N}/dSST)_p$ [W/m$^2$/K]\")\n",
    "\n",
    "fig.patch.set_alpha(0.0)\n",
    "fig.set_constrained_layout(True)\n",
    "fig.savefig(\n",
    "    \"figures/2025-05-08-ace-vs-e3sm-sensitivity-yr1-10-patch-20yr-control-hatches.png\",\n",
    "    dpi=200,\n",
    "    bbox_inches=\"tight\",\n",
    ")"
   ]
  },
  {
   "cell_type": "markdown",
   "metadata": {},
   "source": [
    "### Plot the difference between ACE and EAMv3 avg, hatches indiciate where the difference is significant at 95% confidence level"
   ]
  },
  {
   "cell_type": "code",
   "execution_count": null,
   "metadata": {},
   "outputs": [],
   "source": [
    "fig, ax = plt.subplots(1, 1, figsize=(8, 4), subplot_kw={'projection': ccrs.PlateCarree(central_longitude=180)})\n",
    "diff = dR_dSST_10yr - e3sm_sensitivity\n",
    "cf = ax.pcolormesh(lons, lats, diff, vmin=-20, vmax=20, transform=ccrs.PlateCarree(), cmap=\"RdBu_r\")\n",
    "cbar = plt.colorbar(cf, orientation=\"horizontal\", pad=0.15, fraction=0.07)\n",
    "cbar.set_label(r\"$(d\\overline{N}/dSST)_p$ [W/m$^2$/K]\")\n",
    "zscore = diff / sigma_p_diff\n",
    "mask = np.where(np.abs(zscore) > 2.0, 1, 0)\n",
    "ax.contourf(lons, lats, mask, 1, hatches=[None, \"//\"], colors=\"none\", transform=ccrs.PlateCarree())\n",
    "\n",
    "ax.coastlines()\n",
    "ax.set_global()\n",
    "ax.set_title(\"ACE - EAMv3\")\n",
    "gl = ax.gridlines(crs=ccrs.PlateCarree(), draw_labels=True,\n",
    "                linewidth=0.5, color='gray', alpha=0.5, linestyle='--')\n",
    "gl.top_labels = False\n",
    "\n",
    "plt.tight_layout()\n",
    "fig.patch.set_alpha(0.0)\n",
    "fig.savefig(\n",
    "    \"figures/2025-05-08-ACE-E3SM-sensitivity-yr1-10-patch-20yr-control-hatches.png\",\n",
    "    dpi=200,\n",
    "    bbox_inches=\"tight\",\n",
    ")"
   ]
  },
  {
   "cell_type": "markdown",
   "metadata": {},
   "source": [
    "### Equation 4 from [Bloch‐Johnson et al. 2024](https://agupubs.onlinelibrary.wiley.com/doi/epdf/10.1029/2023MS003700)\n",
    "$\\Delta f \\approx \\frac{\\sum_{i} \\bigl(\\partial f / \\partial SST_{i}^{*} \\bigr) a_{i} \\Delta SST_{i}}{a_{tot}}$"
   ]
  },
  {
   "cell_type": "code",
   "execution_count": null,
   "metadata": {},
   "outputs": [],
   "source": [
    "historical = xr.open_dataset(\"/pscratch/sd/e/elynnwu/fme-output/greens-experiment-v3/pm-427/amip-1970-2020/annual_historical_ts_and_R_target_eamv3_80levs.nc\")\n",
    "historical_ts = historical[\"historical_ts\"]\n",
    "historical_R = historical[\"historical_R\"]"
   ]
  },
  {
   "cell_type": "code",
   "execution_count": null,
   "metadata": {},
   "outputs": [],
   "source": [
    "historical_toa_r_anomaly = historical_R - historical_R.mean(dim=\"time\")\n",
    "historical_ts_anomaly = historical_ts - historical_ts.mean(dim=\"time\")\n",
    "historical_toa_r_anomaly = historical_toa_r_anomaly.isel(sample=0)\n",
    "historical_ts_anomaly = historical_ts_anomaly.isel(sample=0)"
   ]
  },
  {
   "cell_type": "code",
   "execution_count": null,
   "metadata": {},
   "outputs": [],
   "source": [
    "historical_prediction = xr.open_dataset(\"/pscratch/sd/e/elynnwu/fme-output/greens-experiment-v3/beaker-RS2/amip-1970-2020/annual_historical_ts_and_R_prediction_eamv3_80levs_beaker-RS2.nc\")\n",
    "area_weights = np.cos(np.deg2rad(historical_prediction.lat))\n",
    "historical_toa_r_pred = historical_prediction[\"historical_R\"]\n",
    "historical_toa_r_pred_anomaly = historical_toa_r_pred.isel(sample=0) - historical_toa_r_pred.isel(sample=0).mean(dim=\"time\")\n",
    "historical_toa_r_pred_anomaly = historical_toa_r_pred_anomaly * ocean_and_ice_free\n",
    "historical_toa_r_pred_anomaly_global_mean = historical_toa_r_pred_anomaly.weighted(area_weights).mean(dim=[\"lat\", \"lon\"])"
   ]
  },
  {
   "cell_type": "code",
   "execution_count": null,
   "metadata": {},
   "outputs": [],
   "source": [
    "deltaf_eq4_e3smv3 = np.nansum(e3sm_sensitivity.values * ocean_and_ice_free * historical_ts_anomaly.values * area, axis=(1,2)) / np.sum(area[ocean_and_ice_free])\n",
    "deltaf_eq4_ace = np.nansum(dR_dSST_40yr * ocean_and_ice_free * historical_ts_anomaly.values * area, axis=(1,2)) / np.sum(area[ocean_and_ice_free])"
   ]
  },
  {
   "cell_type": "code",
   "execution_count": null,
   "metadata": {},
   "outputs": [],
   "source": [
    "area_weights = np.cos(np.deg2rad(historical.lat))\n",
    "historical_ts_anomaly_global_mean = historical_ts_anomaly.weighted(area_weights).mean(dim=[\"lat\", \"lon\"])\n",
    "historical_toa_r_anomaly = historical_toa_r_anomaly * ocean_and_ice_free\n",
    "historical_toa_r_anomaly_global_mean = historical_toa_r_anomaly.weighted(area_weights).mean(dim=[\"lat\", \"lon\"])"
   ]
  },
  {
   "cell_type": "code",
   "execution_count": null,
   "metadata": {},
   "outputs": [],
   "source": [
    "num_years = 51\n",
    "times=[i for i in range(1970,1970+num_years)]\n",
    "fig, ax = plt.subplots(1, 1, figsize=(8, 5))\n",
    "\n",
    "target_eamv3, = ax.plot(times, historical_toa_r_anomaly_global_mean, color=\"k\", label=\"EAMv3 Target\")\n",
    "target_ace, = ax.plot(times, historical_toa_r_pred_anomaly_global_mean, color=\"k\", label=\"ACE Target\", ls=\"--\")\n",
    "rmse_ace = np.sqrt(np.mean((deltaf_eq4_ace - historical_toa_r_anomaly_global_mean) ** 2))\n",
    "rmse_ace_ace = np.sqrt(np.mean((deltaf_eq4_ace - historical_toa_r_pred_anomaly_global_mean) ** 2))\n",
    "print(rmse_ace, rmse_ace_ace)\n",
    "predicted_ace, = ax.plot(times, deltaf_eq4_ace, label=f\"Green's functions ACE (RMSE: {rmse_ace_ace:.2f})\", color=\"tab:blue\")\n",
    "rmse_e3smv3 = np.sqrt(np.mean((deltaf_eq4_e3smv3 - historical_toa_r_anomaly_global_mean) ** 2))\n",
    "predicted_eamv3, = ax.plot(times, deltaf_eq4_e3smv3, label=f\"Green's functions EAMv3 (RMSE: {rmse_e3smv3:.2f})\", color=\"tab:orange\")\n",
    "ax.set_xlabel(\"Year\")\n",
    "ax.set_ylabel(r\"$\\overline{N}'$ [W/m$^2$]\")\n",
    "handles = [target_eamv3, target_ace, predicted_eamv3, predicted_ace]\n",
    "labels = [h.get_label() for h in handles]\n",
    "ax.legend(handles, labels, ncol=2, loc=\"lower center\", bbox_to_anchor=(0.5, -0.35))\n",
    "ax.set_xlim(1971, 2020)\n",
    "print(np.std(historical_toa_r_anomaly_global_mean.values), np.std(deltaf_eq4_e3smv3))\n",
    "print(np.std(historical_toa_r_pred_anomaly_global_mean.values), np.std(deltaf_eq4_ace))\n",
    "ax.set_facecolor(\"white\")\n",
    "fig.patch.set_alpha(0.0)\n",
    "fig.savefig(\n",
    "    \"figures/2025-04-21-historical-reconstruction-of-net-TOA-radiation-40yr-ACE.png\",\n",
    "    dpi=200,\n",
    "    bbox_inches=\"tight\",\n",
    ")"
   ]
  }
 ],
 "metadata": {
  "kernelspec": {
   "display_name": "fme",
   "language": "python",
   "name": "python3"
  },
  "language_info": {
   "codemirror_mode": {
    "name": "ipython",
    "version": 3
   },
   "file_extension": ".py",
   "mimetype": "text/x-python",
   "name": "python",
   "nbconvert_exporter": "python",
   "pygments_lexer": "ipython3",
   "version": "3.11.11"
  }
 },
 "nbformat": 4,
 "nbformat_minor": 2
}
