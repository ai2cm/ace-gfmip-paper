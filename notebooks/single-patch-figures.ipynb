{
 "cells": [
  {
   "cell_type": "code",
   "execution_count": null,
   "metadata": {},
   "outputs": [],
   "source": [
    "import xarray as xr\n",
    "import numpy as np\n",
    "import matplotlib.pyplot as plt\n",
    "import cartopy.crs as ccrs\n",
    "import re\n",
    "from fme.ace.data_loading.perturbation import PerturbationSelector\n",
    "import torch\n",
    "import matplotlib.ticker as ticker\n",
    "plt.rcParams['font.size'] = 12"
   ]
  },
  {
   "cell_type": "code",
   "execution_count": null,
   "metadata": {},
   "outputs": [],
   "source": [
    "patch_names_e3sm = [\"F2010.40yr.140.0E_0.0N_2K\", \"F2010.40yr.260.0E_n20.0N_2K\", \"F2010.40yr.180.0E_40.0N_2K\"]\n",
    "patch_names_ace = [\"sst_patch_140.0E_0.0N_2K_anomaly\", \"sst_patch_260.0E_-20.0N_2K_anomaly\", \"sst_patch_180.0E_40.0N_2K_anomaly\"]\n",
    "patch_names = [\"Tropical_ascent_40yr\", \"Tropical_subsidence\", \"Extratropical\"]\n",
    "e3sm_patches = {}\n",
    "ace_patches = {}\n",
    "e3sm_patches_global_R = {}\n",
    "ace_patches_global_R = {}"
   ]
  },
  {
   "cell_type": "code",
   "execution_count": null,
   "metadata": {},
   "outputs": [],
   "source": [
    "def get_ace_sst_perturbation(config, ocean_fraction, lat, lon):\n",
    "    selector = PerturbationSelector(\n",
    "        type=\"greens_function\",\n",
    "        config=config,\n",
    "    )\n",
    "    perturbation = selector.build()\n",
    "    lats, lons = torch.meshgrid(torch.from_numpy(lat), torch.from_numpy(lon), indexing=\"ij\")\n",
    "    nx, ny = len(lat), len(lon)\n",
    "    ocean_fraction = torch.from_numpy(ocean_fraction)\n",
    "    data = torch.zeros(nx, ny, device=\"cpu\")\n",
    "    perturbation.apply_perturbation(data, lats.to(\"cpu\"), lons.to(\"cpu\"), ocean_fraction)\n",
    "    return data.data.numpy()"
   ]
  },
  {
   "cell_type": "code",
   "execution_count": null,
   "metadata": {},
   "outputs": [],
   "source": [
    "forcing = xr.open_dataset(\"/pscratch/sd/e/elynnwu/e3smv3-fme-data/gfmip-annual-repeating-sst-sic/1971.nc\")\n",
    "forcing = forcing.sel(time=slice(\"1971-01-01\", \"1981-01-01\"))\n",
    "ocean_fraction = forcing.OCNFRAC.mean(dim=\"time\").values\n",
    "lat = forcing.lat.values\n",
    "lon = forcing.lon.values\n",
    "pattern = r\"[-+]?\\d*\\.\\d+|[-+]?\\d+\"\n",
    "SST_anom = {}\n",
    "for i in range(len(patch_names_ace)):\n",
    "    info = re.findall(pattern, patch_names_ace[i])\n",
    "    amplitude = float(info[-1])\n",
    "    lat_center = float(info[1])\n",
    "    lon_center = float(info[0])\n",
    "    config={\n",
    "                \"amplitude\": amplitude,\n",
    "                \"lat_center\": lat_center,\n",
    "                \"lon_center\": lon_center,\n",
    "                \"lat_width\": 20.0,\n",
    "                \"lon_width\": 80.0,\n",
    "            }\n",
    "    SST_anom[patch_names[i]] = get_ace_sst_perturbation(config, ocean_fraction, lat, lon)"
   ]
  },
  {
   "cell_type": "code",
   "execution_count": null,
   "metadata": {},
   "outputs": [],
   "source": [
    "i = 0\n",
    "for patch in patch_names:\n",
    "    e3sm_patches[patch] = xr.open_dataset(f\"/pscratch/sd/e/elynnwu/EAMv3-data/e3smv3-greens-experiment/{patch_names_e3sm[i]}.nc\")\n",
    "    ace_patches[patch] = xr.open_dataset(f\"/pscratch/sd/e/elynnwu/fme-output/greens-experiment-v3/beaker-RS2/{patch_names_ace[i]}/monthly_mean_predictions.nc\")\n",
    "    i += 1"
   ]
  },
  {
   "cell_type": "code",
   "execution_count": null,
   "metadata": {},
   "outputs": [],
   "source": [
    "i = 0\n",
    "for patch in patch_names:\n",
    "    area_weights = np.cos(np.deg2rad(e3sm_patches[patch].lat))\n",
    "    toa_R = e3sm_patches[patch][\"FSNT\"] - e3sm_patches[patch][\"FLNT\"]\n",
    "    e3sm_patches_global_R[patch] = toa_R.weighted(area_weights).mean((\"lat\", \"lon\"))\n",
    "    area_weights = np.cos(np.deg2rad(ace_patches[patch].lat))\n",
    "    ace_patches_global_R[patch] = ace_patches[patch][\"net_energy_flux_toa_into_atmosphere\"].weighted(area_weights).mean((\"lat\", \"lon\"))\n",
    "    i += 1"
   ]
  },
  {
   "cell_type": "code",
   "execution_count": null,
   "metadata": {},
   "outputs": [],
   "source": [
    "e3sm_patches_time_mean_R = {}"
   ]
  },
  {
   "cell_type": "code",
   "execution_count": null,
   "metadata": {},
   "outputs": [],
   "source": [
    "i = 0\n",
    "for patch in patch_names:\n",
    "    toa_R = e3sm_patches[patch][\"FSNT\"] - e3sm_patches[patch][\"FLNT\"]\n",
    "    e3sm_patches_time_mean_R[patch] = toa_R.mean(\"time\")\n",
    "    i += 1"
   ]
  },
  {
   "cell_type": "code",
   "execution_count": null,
   "metadata": {},
   "outputs": [],
   "source": [
    "ace_control = xr.open_dataset(\"/pscratch/sd/e/elynnwu/fme-output/greens-experiment-v3/beaker-RS2/control_run_40yr_v3/monthly_mean_predictions.nc\")\n",
    "e3sm_control = xr.open_dataset(\"/pscratch/sd/e/elynnwu/EAMv3-data/e3smv3-greens-experiment/F2010.control.gaussian.40yr.nc\")"
   ]
  },
  {
   "cell_type": "code",
   "execution_count": null,
   "metadata": {},
   "outputs": [],
   "source": [
    "toa_R = e3sm_control[\"FSNT\"] - e3sm_control[\"FLNT\"]\n",
    "area_weights = np.cos(np.deg2rad(e3sm_control.lat))\n",
    "e3sm_control_toa_R = toa_R.weighted(area_weights).mean((\"lat\", \"lon\"))\n",
    "\n",
    "area_weights = np.cos(np.deg2rad(ace_control.lat))\n",
    "ace_control_toa_R = ace_control[\"net_energy_flux_toa_into_atmosphere\"].weighted(area_weights).mean((\"lat\", \"lon\"))"
   ]
  },
  {
   "cell_type": "code",
   "execution_count": null,
   "metadata": {},
   "outputs": [],
   "source": [
    "fig, axes = plt.subplots(2, 2, figsize=(15, 10))\n",
    "axes = axes.flatten()\n",
    "i = 0\n",
    "e3sm_control_toa_R_annual = e3sm_control_toa_R.coarsen(time=12, boundary=\"trim\").mean()\n",
    "ace_control_toa_R_annual = ace_control_toa_R.sel(sample=0).coarsen(time=12, boundary=\"trim\").mean()\n",
    "axes[i].plot(e3sm_control_toa_R_annual, label=rf\"EAMv3 ($\\sigma=${e3sm_control_toa_R_annual.std().data.item():.1f})\", color=\"k\")\n",
    "axes[i].plot([0, 40], [e3sm_control_toa_R_annual.mean(), e3sm_control_toa_R_annual.mean()], color=\"k\", linestyle=\"--\")\n",
    "axes[i].plot(ace_control_toa_R_annual, label=rf\"ACE ($\\sigma=${ace_control_toa_R_annual.std().data.item():.1f})\", color=\"tab:blue\")\n",
    "axes[i].plot([0, 40], [ace_control_toa_R_annual.mean(), ace_control_toa_R_annual.mean()], linestyle=\"--\", color=\"tab:blue\")\n",
    "print(ace_control_toa_R_annual.mean() - e3sm_control_toa_R_annual.mean())\n",
    "axes[i].set_title(\"a) Control\")\n",
    "axes[i].set_xlabel(\"Year\")\n",
    "axes[i].set_xlim([0, 40])\n",
    "axes[i].set_yticks(np.arange(2.5, 4.5, 0.5))\n",
    "axes[i].legend(loc=7)\n",
    "axes[i].set_ylabel(r\"TOA radiative flux [W/m$^2$]\")\n",
    "i += 1\n",
    "titles = [\"b) Tropical ascent\", \"c) Tropical subsidence\", \"d) Extratropical\"]\n",
    "for patch in patch_names[0:3]:\n",
    "    e3sm = e3sm_patches_global_R[patch].coarsen(time=12, boundary=\"trim\").mean().values - e3sm_control_toa_R_annual.values\n",
    "    ace = ace_patches_global_R[patch].sel(sample=0).coarsen(time=12, boundary=\"trim\").mean() - ace_control_toa_R_annual\n",
    "    axes[i].plot(e3sm, label=rf\"EAMv3 ($\\sigma=${np.std(e3sm):.1f})\", color=\"k\")\n",
    "    axes[i].plot([0, 40], [np.mean(e3sm), np.mean(e3sm)], color=\"k\", linestyle=\"--\")\n",
    "    axes[i].plot(ace, label=rf\"ACE ($\\sigma=${ace.std().data.item():.1f})\", color=\"tab:blue\")\n",
    "    axes[i].plot([0, 40], [ace.mean(), ace.mean()], linestyle=\"--\", color=\"tab:blue\")\n",
    "    print(ace.mean() - np.mean(e3sm))\n",
    "    axes[i].set_title(titles[i-1] + \" patch - control\")\n",
    "    axes[i].set_xlabel(\"Year\")\n",
    "    axes[i].set_xlim([0, 40])\n",
    "    axes[i].set_ylim([-1, 1])\n",
    "    axes[i].set_yticks(np.arange(-1, 1.1, 0.5))\n",
    "    axes[i].legend(loc=1)\n",
    "    i += 1\n",
    "axes[2].set_ylabel(r\"TOA radiative flux [W/m$^2$]\")\n",
    "plt.tight_layout()\n",
    "fig.patch.set_alpha(0.0)\n",
    "fig.savefig(\n",
    "    \"e3smv3-80levs-RS4/2025-04-30-three-patches-time-series-of-TOA-beaker-RS4.png\",\n",
    "    dpi=200,  \n",
    "    bbox_inches=\"tight\",\n",
    ")"
   ]
  },
  {
   "cell_type": "code",
   "execution_count": null,
   "metadata": {},
   "outputs": [],
   "source": [
    "VAR = \"net_energy_flux_toa_into_atmosphere\"\n",
    "ace_control_toa_R_avg = ace_control[VAR].sel(sample=0).mean(\"time\")\n",
    "e3sm_control_toa_R_avg = e3sm_control[\"FSNT\"].isel(time=slice(0, 240)).mean(\"time\") - e3sm_control[\"FLNT\"].isel(time=slice(0, 240)).mean(\"time\")"
   ]
  },
  {
   "cell_type": "code",
   "execution_count": null,
   "metadata": {},
   "outputs": [],
   "source": [
    "fig, axes = plt.subplots(3, 3, figsize=(12, 10), subplot_kw={'projection': ccrs.PlateCarree(central_longitude=180)})\n",
    "labels = [\"a) ACE Tropical Ascent\", \"b) ACE Tropical Subsidence\", \"c) ACE Extratropical\"]\n",
    "labels_2 = [\"d) EAMv3 Tropical Ascent\", \"e) EAMv3 Tropical Subsidence\", \"f) EAMv3 Extratropical\"]\n",
    "labels_3 = [\"g) Bias\", \"h) Bias\", \"i) Bias\"]\n",
    "axes = axes.flatten()\n",
    "lons, lats = np.meshgrid(ace_control[\"lon\"], ace_control[\"lat\"])\n",
    "i = 0\n",
    "for patch in patch_names[0:3]:\n",
    "    toa_flux_diff_ace = ace_patches[patch][VAR].sel(sample=0).mean(\"time\") - ace_control_toa_R_avg  \n",
    "    cf = axes[i].pcolormesh(lons, lats, toa_flux_diff_ace, vmin=-20, vmax=20, transform=ccrs.PlateCarree(), cmap=\"RdBu_r\")\n",
    "    mean = toa_flux_diff_ace.weighted(np.cos(np.deg2rad(ace_control[\"lat\"]))).mean((\"lat\", \"lon\"))\n",
    "    axes[i].contour(lons, lats, SST_anom[patch], transform=ccrs.PlateCarree(), cmap=\"binary_r\", levels=[1])\n",
    "    axes[i].coastlines()\n",
    "    axes[i].set_global()\n",
    "    axes[i].set_title(labels[i]+f\"\\n mean: {mean:.1f}\")\n",
    "    gl = axes[i].gridlines(crs=ccrs.PlateCarree(), draw_labels=True,\n",
    "                    linewidth=0.5, color='gray', alpha=0.5, linestyle='--')\n",
    "    gl.top_labels = False\n",
    "\n",
    "    toa_flux_diff_e3sm = e3sm_patches_time_mean_R[patch] - e3sm_control_toa_R_avg  \n",
    "    cf = axes[i+3].pcolormesh(lons, lats, toa_flux_diff_e3sm, vmin=-20, vmax=20, transform=ccrs.PlateCarree(), cmap=\"RdBu_r\")\n",
    "    mean = toa_flux_diff_e3sm.weighted(np.cos(np.deg2rad(e3sm_control[\"lat\"]))).mean((\"lat\", \"lon\"))\n",
    "    axes[i+3].contour(lons, lats, SST_anom[patch], transform=ccrs.PlateCarree(), cmap=\"binary_r\", levels=[1])\n",
    "    axes[i+3].coastlines()\n",
    "    axes[i+3].set_global()\n",
    "    axes[i+3].set_title(labels_2[i]+f\"\\n mean: {mean:.1f}\")\n",
    "    gl = axes[i+3].gridlines(crs=ccrs.PlateCarree(), draw_labels=True,\n",
    "                    linewidth=0.5, color='gray', alpha=0.5, linestyle='--')\n",
    "    gl.top_labels = False\n",
    "\n",
    "    bias = toa_flux_diff_ace.values - toa_flux_diff_e3sm.values\n",
    "    cf = axes[i+6].pcolormesh(lons, lats, bias, vmin=-20, vmax=20, transform=ccrs.PlateCarree(), cmap=\"RdBu_r\")\n",
    "    mean = np.average(bias, weights=np.cos(np.deg2rad(lats)))\n",
    "    axes[i+6].contour(lons, lats, SST_anom[patch], transform=ccrs.PlateCarree(), cmap=\"binary_r\", levels=[1])\n",
    "    axes[i+6].coastlines()\n",
    "    axes[i+6].set_global()\n",
    "    axes[i+6].set_title(f\"{labels_3[i]} mean: {mean:.1f}\")\n",
    "    gl = axes[i+6].gridlines(crs=ccrs.PlateCarree(), draw_labels=True,\n",
    "                    linewidth=0.5, color='gray', alpha=0.5, linestyle='--')\n",
    "    gl.top_labels = False\n",
    "    i += 1    \n",
    "\n",
    "cbar = fig.colorbar(cf, ax=axes[:], orientation=\"horizontal\", pad=0.05, fraction=0.04)\n",
    "cbar.set_label(r\"TOA radiative flux [W/m$^2$]\")\n",
    "\n",
    "fig.patch.set_alpha(0.0)\n",
    "fig.set_constrained_layout(True)\n",
    "fig.savefig(\n",
    "    \"figures/2025-05-08-40yr-3patches-TOA-radiation-beaker-RS2.png\",\n",
    "    dpi=200,  \n",
    "    bbox_inches=\"tight\",\n",
    ")"
   ]
  }
 ],
 "metadata": {
  "kernelspec": {
   "display_name": "fme",
   "language": "python",
   "name": "python3"
  },
  "language_info": {
   "codemirror_mode": {
    "name": "ipython",
    "version": 3
   },
   "file_extension": ".py",
   "mimetype": "text/x-python",
   "name": "python",
   "nbconvert_exporter": "python",
   "pygments_lexer": "ipython3",
   "version": "3.11.11"
  }
 },
 "nbformat": 4,
 "nbformat_minor": 2
}
