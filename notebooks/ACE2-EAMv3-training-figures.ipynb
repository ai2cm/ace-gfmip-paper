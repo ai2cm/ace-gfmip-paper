{
 "cells": [
  {
   "cell_type": "code",
   "execution_count": null,
   "id": "61c28001",
   "metadata": {},
   "outputs": [],
   "source": [
    "import xarray as xr\n",
    "import numpy as np\n",
    "import matplotlib.pyplot as plt\n",
    "import cartopy.crs as ccrs\n",
    "import matplotlib.ticker as ticker"
   ]
  },
  {
   "cell_type": "markdown",
   "id": "bb385513",
   "metadata": {},
   "source": [
    "### Figures for ACE-EAMv3 AMIP evaluation"
   ]
  },
  {
   "cell_type": "code",
   "execution_count": null,
   "id": "0f0188b1",
   "metadata": {},
   "outputs": [],
   "source": [
    "path = \"/pscratch/sd/e/elynnwu/fme-output/greens-experiment-v3/beaker-RS2/amip-1970-2020/\"\n",
    "annual = xr.open_dataset(path+\"annual_diagnostics.nc\")\n",
    "time_mean = xr.open_dataset(path+\"time_mean_diagnostics.nc\")"
   ]
  },
  {
   "cell_type": "code",
   "execution_count": null,
   "id": "702c4fe7",
   "metadata": {},
   "outputs": [],
   "source": [
    "fig, axes = plt.subplots(1, 3, figsize=(15, 4))\n",
    "axes = axes.flatten()\n",
    "i = 0\n",
    "titles = [\"Net TOA radiation\", \"TOA LW up\", \"TOA SW up\"]\n",
    "for var in [\"net_energy_flux_toa_into_atmosphere\", \"FLUT\", \"top_of_atmos_upward_shortwave_flux\"]:\n",
    "    axes[i].plot(annual.year, annual[var].sel(source=\"prediction\", sample=0), label=\"ACE\")\n",
    "    mean = annual[var].sel(source=\"prediction\", sample=0).mean()\n",
    "    std = annual[var].sel(source=\"prediction\", sample=0).std()\n",
    "    print(f\"ACE mean: {mean.values}, std: {std.values}\")\n",
    "    axes[i].plot([1971, 2020], [mean, mean], linestyle=\"--\", color=\"tab:blue\")\n",
    "    axes[i].plot(annual.year, annual[var].sel(source=\"target\", sample=0), label=\"EAMv3\", color=\"k\")\n",
    "    mean = annual[var].sel(source=\"target\", sample=0).mean()\n",
    "    std = annual[var].sel(source=\"target\", sample=0).std()\n",
    "    print(f\"E3SM mean: {mean.values}, std: {std.values}\")\n",
    "    axes[i].plot([1971, 2020], [mean, mean], linestyle=\"--\", color=\"k\")\n",
    "\n",
    "    axes[i].set_title(titles[i])\n",
    "    axes[i].set_xlim([1971, 2020])\n",
    "    axes[i].yaxis.set_major_locator(ticker.MultipleLocator(0.5))\n",
    "    i += 1\n",
    "\n",
    "axes[0].legend()\n",
    "axes[0].set_ylabel(r\"[W/m$^2$]\")\n",
    "plt.tight_layout()\n",
    "fig.patch.set_alpha(0.0)\n",
    "fig.savefig(\n",
    "    \"figures/ace-eamv3-beaker-RS2-amip-1970-2020.png\",\n",
    "    dpi=200,\n",
    "    bbox_inches=\"tight\",\n",
    ")"
   ]
  },
  {
   "cell_type": "code",
   "execution_count": null,
   "id": "ebb362b5",
   "metadata": {},
   "outputs": [],
   "source": [
    "fig, axes = plt.subplots(1, 3, figsize=(12, 6), subplot_kw={'projection': ccrs.PlateCarree(central_longitude=180)})\n",
    "axes = axes.flatten()\n",
    "lons, lats = np.meshgrid(time_mean[\"lon\"], time_mean[\"lat\"])\n",
    "i = 0\n",
    "for patch in [\"net_energy_flux_toa_into_atmosphere\", \"FLUT\", \"top_of_atmos_upward_shortwave_flux\"]:\n",
    "    data = time_mean[f\"bias_map-{patch}\"]\n",
    "    cf = axes[i].pcolormesh(lons, lats, data, transform=ccrs.PlateCarree(), cmap=\"RdBu_r\", vmin=-10, vmax=10)\n",
    "    axes[i].coastlines()\n",
    "    axes[i].set_global()\n",
    "    axes[i].set_title(titles[i])\n",
    "    gl = axes[i].gridlines(crs=ccrs.PlateCarree(), draw_labels=True,\n",
    "                    linewidth=0.5, color='gray', alpha=0.5, linestyle='--')\n",
    "    gl.top_labels = False\n",
    "    i += 1\n",
    "cbar = fig.colorbar(cf, ax=axes, orientation=\"vertical\", pad=0.02, fraction=0.007)\n",
    "cbar.set_label(f\"[W/m2]\")\n",
    "fig.patch.set_alpha(0.0)\n",
    "\n",
    "fig.savefig(\n",
    "    \"figures/2025-05-08-ace-eamv3-beaker-RS2-amip-1970-2020-rad-map.png\",\n",
    "    dpi=200,  \n",
    "    bbox_inches=\"tight\",\n",
    ")"
   ]
  }
 ],
 "metadata": {
  "kernelspec": {
   "display_name": "fme",
   "language": "python",
   "name": "python3"
  },
  "language_info": {
   "codemirror_mode": {
    "name": "ipython",
    "version": 3
   },
   "file_extension": ".py",
   "mimetype": "text/x-python",
   "name": "python",
   "nbconvert_exporter": "python",
   "pygments_lexer": "ipython3",
   "version": "3.11.11"
  }
 },
 "nbformat": 4,
 "nbformat_minor": 5
}
